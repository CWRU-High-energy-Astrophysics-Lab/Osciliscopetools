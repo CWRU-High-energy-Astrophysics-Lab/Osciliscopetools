{
 "cells": [
  {
   "cell_type": "code",
   "execution_count": 48,
   "id": "initial_id",
   "metadata": {
    "ExecuteTime": {
     "end_time": "2023-08-28T12:49:21.835687363Z",
     "start_time": "2023-08-28T12:49:21.825173670Z"
    }
   },
   "outputs": [],
   "source": [
    "import serial\n",
    "import numpy as np\n",
    "import pandas as pd\n",
    "import matplotlib.pyplot as plt\n",
    "import datetime \n",
    "import time\n",
    "port = \"/dev/ttySC0\"\n"
   ]
  },
  {
   "cell_type": "code",
   "execution_count": 49,
   "id": "ff30aef17f10f00c",
   "metadata": {
    "ExecuteTime": {
     "end_time": "2023-08-28T12:49:22.513777468Z",
     "start_time": "2023-08-28T12:49:22.248639147Z"
    }
   },
   "outputs": [],
   "source": [
    "scope= serial.Serial(port) "
   ]
  },
  {
   "cell_type": "code",
   "execution_count": 64,
   "id": "7931dc9b",
   "metadata": {},
   "outputs": [],
   "source": [
    "scope.write(str.encode('MEASUrement:IMMed:TYPe PK2pk\\n'))\n",
    "measurments=[]\n",
    "\n"
   ]
  },
  {
   "cell_type": "code",
   "execution_count": 56,
   "id": "6f43aeaf",
   "metadata": {},
   "outputs": [
    {
     "name": "stdout",
     "output_type": "stream",
     "text": [
      ":MEASUREMENT:IMMED:VALUE 7.4133E-1\n",
      "\n"
     ]
    }
   ],
   "source": [
    "    \n",
    "    scope.write(str.encode('ACQuire:STOPAfter SEQUENCE\\n'))\n",
    "    scope.write(str.encode('ACQuire:STATE ON\\n'))\n",
    "\n",
    "    scope.write(str.encode('*OPC?\\n'))\n",
    "    \n",
    "    scope.readline().decode('utf-8')\n",
    "    \n",
    "    scope.write(str.encode('MEASUrement:IMMed:VALue?\\n'))\n",
    "    measurment= scope.readline().decode('utf-8')\n",
    "    print(measurment)"
   ]
  },
  {
   "cell_type": "code",
   "execution_count": 57,
   "id": "a6589a74ee91912f",
   "metadata": {
    "ExecuteTime": {
     "end_time": "2023-08-25T18:27:26.892129772Z",
     "start_time": "2023-08-25T18:24:04.971013352Z"
    }
   },
   "outputs": [
    {
     "ename": "KeyboardInterrupt",
     "evalue": "",
     "output_type": "error",
     "traceback": [
      "\u001b[0;31m---------------------------------------------------------------------------\u001b[0m",
      "\u001b[0;31mKeyboardInterrupt\u001b[0m                         Traceback (most recent call last)",
      "Cell \u001b[0;32mIn [57], line 8\u001b[0m\n\u001b[1;32m      5\u001b[0m scope\u001b[38;5;241m.\u001b[39mwrite(\u001b[38;5;28mstr\u001b[39m\u001b[38;5;241m.\u001b[39mencode(\u001b[38;5;124m'\u001b[39m\u001b[38;5;124mACQuire:STATE ON\u001b[39m\u001b[38;5;130;01m\\n\u001b[39;00m\u001b[38;5;124m'\u001b[39m))\n\u001b[1;32m      7\u001b[0m scope\u001b[38;5;241m.\u001b[39mwrite(\u001b[38;5;28mstr\u001b[39m\u001b[38;5;241m.\u001b[39mencode(\u001b[38;5;124m'\u001b[39m\u001b[38;5;124m*OPC?\u001b[39m\u001b[38;5;130;01m\\n\u001b[39;00m\u001b[38;5;124m'\u001b[39m))\n\u001b[0;32m----> 8\u001b[0m \u001b[43mscope\u001b[49m\u001b[38;5;241;43m.\u001b[39;49m\u001b[43mreadline\u001b[49m\u001b[43m(\u001b[49m\u001b[43m)\u001b[49m\u001b[38;5;241m.\u001b[39mdecode(\u001b[38;5;124m'\u001b[39m\u001b[38;5;124mutf-8\u001b[39m\u001b[38;5;124m'\u001b[39m)\n\u001b[1;32m      9\u001b[0m scope\u001b[38;5;241m.\u001b[39mwrite(\u001b[38;5;28mstr\u001b[39m\u001b[38;5;241m.\u001b[39mencode(\u001b[38;5;124m'\u001b[39m\u001b[38;5;124mMEASUrement:IMMed:VALue?\u001b[39m\u001b[38;5;130;01m\\n\u001b[39;00m\u001b[38;5;124m'\u001b[39m))\n\u001b[1;32m     10\u001b[0m measurment\u001b[38;5;241m=\u001b[39m \u001b[38;5;28mfloat\u001b[39m(scope\u001b[38;5;241m.\u001b[39mreadline()\u001b[38;5;241m.\u001b[39mdecode(\u001b[38;5;124m'\u001b[39m\u001b[38;5;124mutf-8\u001b[39m\u001b[38;5;124m'\u001b[39m)[\u001b[38;5;241m25\u001b[39m:\u001b[38;5;241m-\u001b[39m\u001b[38;5;241m1\u001b[39m])\n",
      "File \u001b[0;32m/usr/lib/python3/dist-packages/serial/serialposix.py:565\u001b[0m, in \u001b[0;36mSerial.read\u001b[0;34m(self, size)\u001b[0m\n\u001b[1;32m    563\u001b[0m \u001b[38;5;28;01mwhile\u001b[39;00m \u001b[38;5;28mlen\u001b[39m(read) \u001b[38;5;241m<\u001b[39m size:\n\u001b[1;32m    564\u001b[0m     \u001b[38;5;28;01mtry\u001b[39;00m:\n\u001b[0;32m--> 565\u001b[0m         ready, _, _ \u001b[38;5;241m=\u001b[39m select\u001b[38;5;241m.\u001b[39mselect([\u001b[38;5;28mself\u001b[39m\u001b[38;5;241m.\u001b[39mfd, \u001b[38;5;28mself\u001b[39m\u001b[38;5;241m.\u001b[39mpipe_abort_read_r], [], [], timeout\u001b[38;5;241m.\u001b[39mtime_left())\n\u001b[1;32m    566\u001b[0m         \u001b[38;5;28;01mif\u001b[39;00m \u001b[38;5;28mself\u001b[39m\u001b[38;5;241m.\u001b[39mpipe_abort_read_r \u001b[38;5;129;01min\u001b[39;00m ready:\n\u001b[1;32m    567\u001b[0m             os\u001b[38;5;241m.\u001b[39mread(\u001b[38;5;28mself\u001b[39m\u001b[38;5;241m.\u001b[39mpipe_abort_read_r, \u001b[38;5;241m1000\u001b[39m)\n",
      "\u001b[0;31mKeyboardInterrupt\u001b[0m: "
     ]
    }
   ],
   "source": [
    "endTime=datetime.datetime.now()+datetime.timedelta(minutes=60*56)\n",
    "\n",
    "while( datetime.datetime.now()<= endTime):\n",
    "    scope.write(str.encode('ACQuire:STOPAfter SEQUENCE\\n'))\n",
    "    scope.write(str.encode('ACQuire:STATE ON\\n'))\n",
    "\n",
    "    scope.write(str.encode('*OPC?\\n'))\n",
    "    scope.readline().decode('utf-8')\n",
    "    scope.write(str.encode('MEASUrement:IMMed:VALue?\\n'))\n",
    "    measurment= float(scope.readline().decode('utf-8')[25:-1])\n",
    "    measurments.append(measurment)\n",
    "    "
   ]
  },
  {
   "cell_type": "markdown",
   "id": "6debb645",
   "metadata": {},
   "source": [
    "First 682 measerments made at 100mV Scale, triggering at -20 mv up slope"
   ]
  },
  {
   "cell_type": "code",
   "execution_count": 58,
   "id": "122db066",
   "metadata": {},
   "outputs": [
    {
     "data": {
      "text/plain": [
       "81369"
      ]
     },
     "execution_count": 58,
     "metadata": {},
     "output_type": "execute_result"
    }
   ],
   "source": [
    "len(measurments)"
   ]
  },
  {
   "cell_type": "code",
   "execution_count": 62,
   "id": "7aadfb7f",
   "metadata": {},
   "outputs": [
    {
     "data": {
      "text/plain": [
       "Text(0.5, 0, 'Peak to Peak (V)')"
      ]
     },
     "execution_count": 62,
     "metadata": {},
     "output_type": "execute_result"
    },
    {
     "data": {
      "image/png": "[encoded data removed]",
      "text/plain": [
       "<Figure size 640x480 with 1 Axes>"
      ]
     },
     "metadata": {},
     "output_type": "display_data"
    }
   ],
   "source": [
    "plt.hist(measurments,bins=500)\n",
    "plt.xlabel(\"Peak to Peak (V)\")"
   ]
  },
  {
   "cell_type": "code",
   "execution_count": 63,
   "id": "535590ee6fd51ee7",
   "metadata": {
    "ExecuteTime": {
     "end_time": "2023-08-25T18:27:38.275444573Z",
     "start_time": "2023-08-25T18:27:38.261526959Z"
    }
   },
   "outputs": [],
   "source": [
    "## write csv\n",
    "filename= \"P2P_trashy_250mvtrg_\"+datetime.datetime.now().isoformat(sep=\"_\")+\".csv\"\n",
    "f=open(filename,\"a\")\n",
    "for i in measurments:\n",
    "    f.write(str(i)+\"\\n\")\n",
    "f.close()"
   ]
  },
  {
   "cell_type": "code",
   "execution_count": 2,
   "id": "7f69b3073d3099e0",
   "metadata": {
    "ExecuteTime": {
     "end_time": "2023-08-28T12:33:49.110083363Z",
     "start_time": "2023-08-28T12:33:49.070976973Z"
    }
   },
   "outputs": [],
   "source": [
    "filename=\"Scope_2023-08-25_14:27:38.263299.csv\""
   ]
  },
  {
   "cell_type": "code",
   "execution_count": 3,
   "id": "bae4e5b6badd4c9a",
   "metadata": {
    "ExecuteTime": {
     "end_time": "2023-08-28T12:33:51.066582197Z",
     "start_time": "2023-08-28T12:33:50.814827954Z"
    }
   },
   "outputs": [],
   "source": [
    "df=pd.read_csv(filename,header=None)"
   ]
  },
  {
   "cell_type": "code",
   "execution_count": 4,
   "id": "d4f9531dde04e67e",
   "metadata": {
    "ExecuteTime": {
     "end_time": "2023-08-28T12:33:52.601730354Z",
     "start_time": "2023-08-28T12:33:52.549585955Z"
    }
   },
   "outputs": [
    {
     "data": {
      "text/plain": [
       "318"
      ]
     },
     "execution_count": 4,
     "metadata": {},
     "output_type": "execute_result"
    }
   ],
   "source": [
    "df.loc[1][1]"
   ]
  },
  {
   "cell_type": "code",
   "execution_count": 9,
   "id": "7964dd3dbfcd3809",
   "metadata": {
    "ExecuteTime": {
     "end_time": "2023-08-28T12:34:52.425148544Z",
     "start_time": "2023-08-28T12:34:52.178100843Z"
    }
   },
   "outputs": [
    {
     "data": {
      "text/plain": [
       "[<matplotlib.lines.Line2D at 0x7f4261faed70>]"
      ]
     },
     "execution_count": 9,
     "metadata": {},
     "output_type": "execute_result"
    },
    {
     "data": {
      "image/png": "[encoded data removed]",
      "text/plain": [
       "<Figure size 640x480 with 1 Axes>"
      ]
     },
     "metadata": {},
     "output_type": "display_data"
    }
   ],
   "source": [
    "start=0\n",
    "end=5800\n",
    "plt.plot((df.loc[0][start:end]-df.loc[0][0])/200)\n",
    "#plt.plot(df.loc[1][start:end]-df.loc[1][0])\n",
    "plt.plot((df.loc[2][start:end]-df.loc[2][0])/126.622)\n",
    "plt.plot((df.loc[3][start:end]-df.loc[3][0])/3481.28)"
   ]
  },
  {
   "cell_type": "code",
   "execution_count": 94,
   "id": "a00a598f340d45f3",
   "metadata": {
    "ExecuteTime": {
     "end_time": "2023-08-25T18:33:54.881200818Z",
     "start_time": "2023-08-25T18:33:54.833552705Z"
    }
   },
   "outputs": [],
   "source": [
    "dynode=np.min((df.loc[2][start:end]-df.loc[2][0])/32.5)"
   ]
  },
  {
   "cell_type": "code",
   "execution_count": 95,
   "id": "c27dc20118918632",
   "metadata": {
    "ExecuteTime": {
     "end_time": "2023-08-25T18:33:55.994194238Z",
     "start_time": "2023-08-25T18:33:55.986500022Z"
    }
   },
   "outputs": [],
   "source": [
    "anode=np.min((df.loc[3][start:end]-df.loc[3][0])/686.315)"
   ]
  },
  {
   "cell_type": "code",
   "execution_count": 96,
   "id": "f6562905e00f387",
   "metadata": {
    "ExecuteTime": {
     "end_time": "2023-08-25T18:33:56.807274573Z",
     "start_time": "2023-08-25T18:33:56.795331200Z"
    }
   },
   "outputs": [
    {
     "data": {
      "text/plain": [
       "32.60538136639199"
      ]
     },
     "execution_count": 96,
     "metadata": {},
     "output_type": "execute_result"
    }
   ],
   "source": [
    "dynode/anode"
   ]
  },
  {
   "cell_type": "code",
   "execution_count": 89,
   "id": "97a7ec2ddd806a9d",
   "metadata": {
    "ExecuteTime": {
     "end_time": "2023-08-25T18:29:50.007937758Z",
     "start_time": "2023-08-25T18:29:49.963132427Z"
    }
   },
   "outputs": [
    {
     "data": {
      "text/plain": [
       "-13087"
      ]
     },
     "execution_count": 89,
     "metadata": {},
     "output_type": "execute_result"
    }
   ],
   "source": [
    "np.min(df.loc[2][start:end]-df.loc[2][0])"
   ]
  },
  {
   "cell_type": "code",
   "execution_count": 90,
   "id": "96a3ca1f08f6cad2",
   "metadata": {
    "ExecuteTime": {
     "end_time": "2023-08-25T18:30:34.478954357Z",
     "start_time": "2023-08-25T18:30:34.427379092Z"
    }
   },
   "outputs": [
    {
     "data": {
      "text/plain": [
       "-8476"
      ]
     },
     "execution_count": 90,
     "metadata": {},
     "output_type": "execute_result"
    }
   ],
   "source": [
    "np.min(df.loc[3][start:end]-df.loc[3][0])"
   ]
  },
  {
   "cell_type": "code",
   "execution_count": null,
   "id": "9f46457405427f6",
   "metadata": {},
   "outputs": [],
   "source": []
  }
 ],
 "metadata": {
  "kernelspec": {
   "display_name": "Python 3 (ipykernel)",
   "language": "python",
   "name": "python3"
  },
  "language_info": {
   "codemirror_mode": {
    "name": "ipython",
    "version": 3
   },
   "file_extension": ".py",
   "mimetype": "text/x-python",
   "name": "python",
   "nbconvert_exporter": "python",
   "pygments_lexer": "ipython3",
   "version": "3.11.2"
  }
 },
 "nbformat": 4,
 "nbformat_minor": 5
}
